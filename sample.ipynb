{
 "cells": [
  {
   "metadata": {
    "ExecuteTime": {
     "end_time": "2025-03-25T18:14:53.204878Z",
     "start_time": "2025-03-25T18:14:52.753878Z"
    }
   },
   "cell_type": "code",
   "source": "import pandas as pd",
   "id": "1d99fc45983a0237",
   "outputs": [],
   "execution_count": 17
  },
  {
   "metadata": {
    "ExecuteTime": {
     "end_time": "2025-03-25T18:25:03.718207Z",
     "start_time": "2025-03-25T18:25:03.691176Z"
    }
   },
   "cell_type": "code",
   "source": [
    "df_train = pd.read_csv('nlp-getting-started/train.csv', delimiter=',')\n",
    "df_test = pd.read_csv('nlp-getting-started/test.csv', delimiter=',')"
   ],
   "id": "a2f04fccc8c634a3",
   "outputs": [],
   "execution_count": 28
  },
  {
   "metadata": {
    "ExecuteTime": {
     "end_time": "2025-03-25T18:25:57.793891Z",
     "start_time": "2025-03-25T18:25:57.788948Z"
    }
   },
   "cell_type": "code",
   "source": [
    "df_train = df_train[['text', 'target']]\n",
    "df_test = df_test[['text']]"
   ],
   "id": "b220c30b6a7fc89e",
   "outputs": [],
   "execution_count": 32
  },
  {
   "metadata": {
    "ExecuteTime": {
     "end_time": "2025-03-25T18:27:05.692219Z",
     "start_time": "2025-03-25T18:27:05.686344Z"
    }
   },
   "cell_type": "code",
   "source": "df_train.head(10)",
   "id": "dfdefe914964d37c",
   "outputs": [
    {
     "data": {
      "text/plain": [
       "                                                text  target\n",
       "0  Our Deeds are the Reason of this #earthquake M...       1\n",
       "1             Forest fire near La Ronge Sask. Canada       1\n",
       "2  All residents asked to 'shelter in place' are ...       1\n",
       "3  13,000 people receive #wildfires evacuation or...       1\n",
       "4  Just got sent this photo from Ruby #Alaska as ...       1\n",
       "5  #RockyFire Update => California Hwy. 20 closed...       1\n",
       "6  #flood #disaster Heavy rain causes flash flood...       1\n",
       "7  I'm on top of the hill and I can see a fire in...       1\n",
       "8  There's an emergency evacuation happening now ...       1\n",
       "9  I'm afraid that the tornado is coming to our a...       1"
      ],
      "text/html": [
       "<div>\n",
       "<style scoped>\n",
       "    .dataframe tbody tr th:only-of-type {\n",
       "        vertical-align: middle;\n",
       "    }\n",
       "\n",
       "    .dataframe tbody tr th {\n",
       "        vertical-align: top;\n",
       "    }\n",
       "\n",
       "    .dataframe thead th {\n",
       "        text-align: right;\n",
       "    }\n",
       "</style>\n",
       "<table border=\"1\" class=\"dataframe\">\n",
       "  <thead>\n",
       "    <tr style=\"text-align: right;\">\n",
       "      <th></th>\n",
       "      <th>text</th>\n",
       "      <th>target</th>\n",
       "    </tr>\n",
       "  </thead>\n",
       "  <tbody>\n",
       "    <tr>\n",
       "      <th>0</th>\n",
       "      <td>Our Deeds are the Reason of this #earthquake M...</td>\n",
       "      <td>1</td>\n",
       "    </tr>\n",
       "    <tr>\n",
       "      <th>1</th>\n",
       "      <td>Forest fire near La Ronge Sask. Canada</td>\n",
       "      <td>1</td>\n",
       "    </tr>\n",
       "    <tr>\n",
       "      <th>2</th>\n",
       "      <td>All residents asked to 'shelter in place' are ...</td>\n",
       "      <td>1</td>\n",
       "    </tr>\n",
       "    <tr>\n",
       "      <th>3</th>\n",
       "      <td>13,000 people receive #wildfires evacuation or...</td>\n",
       "      <td>1</td>\n",
       "    </tr>\n",
       "    <tr>\n",
       "      <th>4</th>\n",
       "      <td>Just got sent this photo from Ruby #Alaska as ...</td>\n",
       "      <td>1</td>\n",
       "    </tr>\n",
       "    <tr>\n",
       "      <th>5</th>\n",
       "      <td>#RockyFire Update =&gt; California Hwy. 20 closed...</td>\n",
       "      <td>1</td>\n",
       "    </tr>\n",
       "    <tr>\n",
       "      <th>6</th>\n",
       "      <td>#flood #disaster Heavy rain causes flash flood...</td>\n",
       "      <td>1</td>\n",
       "    </tr>\n",
       "    <tr>\n",
       "      <th>7</th>\n",
       "      <td>I'm on top of the hill and I can see a fire in...</td>\n",
       "      <td>1</td>\n",
       "    </tr>\n",
       "    <tr>\n",
       "      <th>8</th>\n",
       "      <td>There's an emergency evacuation happening now ...</td>\n",
       "      <td>1</td>\n",
       "    </tr>\n",
       "    <tr>\n",
       "      <th>9</th>\n",
       "      <td>I'm afraid that the tornado is coming to our a...</td>\n",
       "      <td>1</td>\n",
       "    </tr>\n",
       "  </tbody>\n",
       "</table>\n",
       "</div>"
      ]
     },
     "execution_count": 36,
     "metadata": {},
     "output_type": "execute_result"
    }
   ],
   "execution_count": 36
  },
  {
   "metadata": {
    "ExecuteTime": {
     "end_time": "2025-03-25T18:26:09.677899Z",
     "start_time": "2025-03-25T18:26:09.670899Z"
    }
   },
   "cell_type": "code",
   "source": "df_test.head(10)",
   "id": "409f673a36084b96",
   "outputs": [
    {
     "data": {
      "text/plain": [
       "                                                text\n",
       "0                 Just happened a terrible car crash\n",
       "1  Heard about #earthquake is different cities, s...\n",
       "2  there is a forest fire at spot pond, geese are...\n",
       "3           Apocalypse lighting. #Spokane #wildfires\n",
       "4      Typhoon Soudelor kills 28 in China and Taiwan\n",
       "5                 We're shaking...It's an earthquake\n",
       "6  They'd probably still show more life than Arse...\n",
       "7                                  Hey! How are you?\n",
       "8                                   What a nice hat?\n",
       "9                                          Fuck off!"
      ],
      "text/html": [
       "<div>\n",
       "<style scoped>\n",
       "    .dataframe tbody tr th:only-of-type {\n",
       "        vertical-align: middle;\n",
       "    }\n",
       "\n",
       "    .dataframe tbody tr th {\n",
       "        vertical-align: top;\n",
       "    }\n",
       "\n",
       "    .dataframe thead th {\n",
       "        text-align: right;\n",
       "    }\n",
       "</style>\n",
       "<table border=\"1\" class=\"dataframe\">\n",
       "  <thead>\n",
       "    <tr style=\"text-align: right;\">\n",
       "      <th></th>\n",
       "      <th>text</th>\n",
       "    </tr>\n",
       "  </thead>\n",
       "  <tbody>\n",
       "    <tr>\n",
       "      <th>0</th>\n",
       "      <td>Just happened a terrible car crash</td>\n",
       "    </tr>\n",
       "    <tr>\n",
       "      <th>1</th>\n",
       "      <td>Heard about #earthquake is different cities, s...</td>\n",
       "    </tr>\n",
       "    <tr>\n",
       "      <th>2</th>\n",
       "      <td>there is a forest fire at spot pond, geese are...</td>\n",
       "    </tr>\n",
       "    <tr>\n",
       "      <th>3</th>\n",
       "      <td>Apocalypse lighting. #Spokane #wildfires</td>\n",
       "    </tr>\n",
       "    <tr>\n",
       "      <th>4</th>\n",
       "      <td>Typhoon Soudelor kills 28 in China and Taiwan</td>\n",
       "    </tr>\n",
       "    <tr>\n",
       "      <th>5</th>\n",
       "      <td>We're shaking...It's an earthquake</td>\n",
       "    </tr>\n",
       "    <tr>\n",
       "      <th>6</th>\n",
       "      <td>They'd probably still show more life than Arse...</td>\n",
       "    </tr>\n",
       "    <tr>\n",
       "      <th>7</th>\n",
       "      <td>Hey! How are you?</td>\n",
       "    </tr>\n",
       "    <tr>\n",
       "      <th>8</th>\n",
       "      <td>What a nice hat?</td>\n",
       "    </tr>\n",
       "    <tr>\n",
       "      <th>9</th>\n",
       "      <td>Fuck off!</td>\n",
       "    </tr>\n",
       "  </tbody>\n",
       "</table>\n",
       "</div>"
      ]
     },
     "execution_count": 34,
     "metadata": {},
     "output_type": "execute_result"
    }
   ],
   "execution_count": 34
  },
  {
   "metadata": {
    "ExecuteTime": {
     "end_time": "2025-03-25T18:28:20.184364Z",
     "start_time": "2025-03-25T18:28:20.180172Z"
    }
   },
   "cell_type": "code",
   "source": "len(df_train)",
   "id": "13400f366a1e10a0",
   "outputs": [
    {
     "data": {
      "text/plain": [
       "7613"
      ]
     },
     "execution_count": 37,
     "metadata": {},
     "output_type": "execute_result"
    }
   ],
   "execution_count": 37
  },
  {
   "metadata": {
    "ExecuteTime": {
     "end_time": "2025-03-25T18:28:28.436752Z",
     "start_time": "2025-03-25T18:28:28.432771Z"
    }
   },
   "cell_type": "code",
   "source": "len(df_test)",
   "id": "9d99301e5e14cab8",
   "outputs": [
    {
     "data": {
      "text/plain": [
       "3263"
      ]
     },
     "execution_count": 38,
     "metadata": {},
     "output_type": "execute_result"
    }
   ],
   "execution_count": 38
  },
  {
   "metadata": {
    "ExecuteTime": {
     "end_time": "2025-03-25T18:45:40.417693Z",
     "start_time": "2025-03-25T18:45:40.412807Z"
    }
   },
   "cell_type": "code",
   "source": "df_train['target'].unique().tolist()",
   "id": "b171ccfa0e8e90fd",
   "outputs": [
    {
     "data": {
      "text/plain": [
       "[1, 0]"
      ]
     },
     "execution_count": 70,
     "metadata": {},
     "output_type": "execute_result"
    }
   ],
   "execution_count": 70
  },
  {
   "metadata": {
    "ExecuteTime": {
     "end_time": "2025-03-25T18:30:54.757982Z",
     "start_time": "2025-03-25T18:30:54.006391Z"
    }
   },
   "cell_type": "code",
   "source": "from sklearn.feature_extraction.text import TfidfVectorizer\n",
   "id": "260833dfcb55e422",
   "outputs": [],
   "execution_count": 40
  },
  {
   "metadata": {
    "ExecuteTime": {
     "end_time": "2025-03-25T18:31:48.671377Z",
     "start_time": "2025-03-25T18:31:48.668438Z"
    }
   },
   "cell_type": "code",
   "source": "vectorizer = TfidfVectorizer(sublinear_tf=True, max_df=0.5, min_df=5, stop_words=\"english\")",
   "id": "80ac4b5ee06060d7",
   "outputs": [],
   "execution_count": 41
  },
  {
   "metadata": {
    "ExecuteTime": {
     "end_time": "2025-03-25T18:36:04.598247Z",
     "start_time": "2025-03-25T18:36:04.592936Z"
    }
   },
   "cell_type": "code",
   "source": [
    "X = df_train['text']\n",
    "Y = df_train['target']"
   ],
   "id": "759f9962589a9774",
   "outputs": [],
   "execution_count": 48
  },
  {
   "metadata": {
    "ExecuteTime": {
     "end_time": "2025-03-25T18:38:30.332479Z",
     "start_time": "2025-03-25T18:38:30.314471Z"
    }
   },
   "cell_type": "code",
   "source": "Y.head(5)",
   "id": "62d95d4f2eb3e069",
   "outputs": [
    {
     "data": {
      "text/plain": [
       "0    1\n",
       "1    1\n",
       "2    1\n",
       "3    1\n",
       "4    1\n",
       "Name: target, dtype: int64"
      ]
     },
     "execution_count": 52,
     "metadata": {},
     "output_type": "execute_result"
    }
   ],
   "execution_count": 52
  },
  {
   "metadata": {
    "ExecuteTime": {
     "end_time": "2025-03-25T18:36:28.321932Z",
     "start_time": "2025-03-25T18:36:28.252109Z"
    }
   },
   "cell_type": "code",
   "source": "from sklearn.model_selection import train_test_split",
   "id": "e03b1bd354a6a1df",
   "outputs": [],
   "execution_count": 49
  },
  {
   "metadata": {
    "ExecuteTime": {
     "end_time": "2025-03-25T18:36:41.287577Z",
     "start_time": "2025-03-25T18:36:41.281726Z"
    }
   },
   "cell_type": "code",
   "source": "X_train, X_test, Y_train, Y_test = train_test_split(X, Y, test_size=0.2, random_state=42)",
   "id": "22c13e5e57dfe74c",
   "outputs": [],
   "execution_count": 50
  },
  {
   "metadata": {
    "ExecuteTime": {
     "end_time": "2025-03-25T18:39:27.269328Z",
     "start_time": "2025-03-25T18:39:27.189069Z"
    }
   },
   "cell_type": "code",
   "source": "features_train = vectorizer.fit_transform(X_train)",
   "id": "678c5bbe94a5e0ce",
   "outputs": [],
   "execution_count": 56
  },
  {
   "metadata": {
    "ExecuteTime": {
     "end_time": "2025-03-25T18:39:30.013660Z",
     "start_time": "2025-03-25T18:39:29.994508Z"
    }
   },
   "cell_type": "code",
   "source": "features_test = vectorizer.transform(X_test)",
   "id": "e7fe6d3bfb4536b4",
   "outputs": [],
   "execution_count": 57
  },
  {
   "metadata": {
    "ExecuteTime": {
     "end_time": "2025-03-25T18:39:55.191152Z",
     "start_time": "2025-03-25T18:39:55.186814Z"
    }
   },
   "cell_type": "code",
   "source": "feature_names = vectorizer.get_feature_names_out()",
   "id": "60e161cfbf3dc2ae",
   "outputs": [],
   "execution_count": 58
  },
  {
   "metadata": {
    "ExecuteTime": {
     "end_time": "2025-03-25T18:42:01.607203Z",
     "start_time": "2025-03-25T18:42:01.561712Z"
    }
   },
   "cell_type": "code",
   "source": "from sklearn.linear_model import RidgeClassifier",
   "id": "88ab2ee2a8c98f2b",
   "outputs": [],
   "execution_count": 62
  },
  {
   "metadata": {
    "ExecuteTime": {
     "end_time": "2025-03-25T18:42:39.908196Z",
     "start_time": "2025-03-25T18:42:39.880194Z"
    }
   },
   "cell_type": "code",
   "source": [
    "clf = RidgeClassifier(tol=1e-2, solver=\"sparse_cg\")\n",
    "clf.fit(features_train, Y_train)\n",
    "pred = clf.predict(features_test)"
   ],
   "id": "39977513c38ceff5",
   "outputs": [],
   "execution_count": 63
  },
  {
   "metadata": {
    "ExecuteTime": {
     "end_time": "2025-03-25T18:42:51.428668Z",
     "start_time": "2025-03-25T18:42:51.421661Z"
    }
   },
   "cell_type": "code",
   "source": "print(pred)",
   "id": "a7d467a341a2dcf1",
   "outputs": [
    {
     "name": "stdout",
     "output_type": "stream",
     "text": [
      "[0 0 1 ... 1 1 0]\n"
     ]
    }
   ],
   "execution_count": 64
  },
  {
   "metadata": {
    "ExecuteTime": {
     "end_time": "2025-03-25T18:44:13.914279Z",
     "start_time": "2025-03-25T18:44:12.659925Z"
    }
   },
   "cell_type": "code",
   "source": "import matplotlib.pyplot as plt",
   "id": "542dbd28f6fe1502",
   "outputs": [],
   "execution_count": 66
  },
  {
   "metadata": {
    "ExecuteTime": {
     "end_time": "2025-03-25T18:45:55.469905Z",
     "start_time": "2025-03-25T18:45:55.274179Z"
    }
   },
   "cell_type": "code",
   "source": [
    "from sklearn.metrics import ConfusionMatrixDisplay\n",
    "\n",
    "fig, ax = plt.subplots(figsize=(10, 5))\n",
    "ConfusionMatrixDisplay.from_predictions(Y_test, pred, ax=ax)\n",
    "ax.xaxis.set_ticklabels(df_train['target'].unique().tolist())\n",
    "ax.yaxis.set_ticklabels(df_train['target'].unique().tolist())\n",
    "_ = ax.set_title(\n",
    "    f\"Confusion Matrix for {clf.__class__.__name__}\\non the original documents\"\n",
    ")"
   ],
   "id": "74f960ac8db58aa",
   "outputs": [
    {
     "data": {
      "text/plain": [
       "<Figure size 1000x500 with 2 Axes>"
      ],
      "image/png": "[encoded data removed]"
     },
     "metadata": {},
     "output_type": "display_data"
    }
   ],
   "execution_count": 71
  },
  {
   "metadata": {
    "ExecuteTime": {
     "end_time": "2025-03-25T18:47:12.914231Z",
     "start_time": "2025-03-25T18:47:12.909229Z"
    }
   },
   "cell_type": "code",
   "source": "from sklearn import metrics",
   "id": "d602b778c1ffc8ae",
   "outputs": [],
   "execution_count": 72
  },
  {
   "metadata": {
    "ExecuteTime": {
     "end_time": "2025-03-25T18:47:26.718827Z",
     "start_time": "2025-03-25T18:47:26.713749Z"
    }
   },
   "cell_type": "code",
   "source": "score = metrics.accuracy_score(Y_test, pred)",
   "id": "9a714db8b3a6ab65",
   "outputs": [],
   "execution_count": 73
  },
  {
   "metadata": {
    "ExecuteTime": {
     "end_time": "2025-03-25T18:47:35.047011Z",
     "start_time": "2025-03-25T18:47:35.040006Z"
    }
   },
   "cell_type": "code",
   "source": "score",
   "id": "5e2d377d5638b7dd",
   "outputs": [
    {
     "data": {
      "text/plain": [
       "0.7800393959290873"
      ]
     },
     "execution_count": 74,
     "metadata": {},
     "output_type": "execute_result"
    }
   ],
   "execution_count": 74
  },
  {
   "metadata": {
    "ExecuteTime": {
     "end_time": "2025-03-25T18:49:28.426830Z",
     "start_time": "2025-03-25T18:49:28.422832Z"
    }
   },
   "cell_type": "code",
   "source": [
    "from time import time\n",
    "from sklearn.utils.extmath import density"
   ],
   "id": "c60108c5d15cb850",
   "outputs": [],
   "execution_count": 76
  },
  {
   "metadata": {
    "ExecuteTime": {
     "end_time": "2025-03-25T18:52:02.248206Z",
     "start_time": "2025-03-25T18:52:02.242861Z"
    }
   },
   "cell_type": "code",
   "source": [
    "def benchmark(clf, custom_name=False):\n",
    "    print(\"_\" * 80)\n",
    "    print(\"Training: \")\n",
    "    print(clf)\n",
    "    t0 = time()\n",
    "    clf.fit(features_train, Y_train)\n",
    "    train_time = time() - t0\n",
    "    print(f\"train time: {train_time:.3}s\")\n",
    "\n",
    "    t0 = time()\n",
    "    prediction = clf.predict(features_test)\n",
    "    test_time = time() - t0\n",
    "    print(f\"test time:  {test_time:.3}s\")\n",
    "\n",
    "    score = metrics.accuracy_score(Y_test, prediction)\n",
    "    print(f\"accuracy:   {score:.3}\")\n",
    "\n",
    "    # if hasattr(clf, \"coef_\"):\n",
    "    #     print(f\"dimensionality: {clf.coef_.shape[1]}\")\n",
    "    #     print(f\"density: {density(clf.coef_)}\")\n",
    "    #     print()\n",
    "\n",
    "    print()\n",
    "    if custom_name:\n",
    "        clf_descr = str(custom_name)\n",
    "    else:\n",
    "        clf_descr = clf.__class__.__name__\n",
    "    return clf_descr, score, train_time, test_time"
   ],
   "id": "5d3df9b1a8a51879",
   "outputs": [],
   "execution_count": 85
  },
  {
   "metadata": {
    "ExecuteTime": {
     "end_time": "2025-03-25T18:52:02.827451Z",
     "start_time": "2025-03-25T18:52:02.822297Z"
    }
   },
   "cell_type": "code",
   "source": [
    "from sklearn.ensemble import RandomForestClassifier\n",
    "from sklearn.linear_model import LogisticRegression, SGDClassifier\n",
    "from sklearn.naive_bayes import ComplementNB\n",
    "from sklearn.neighbors import KNeighborsClassifier, NearestCentroid\n",
    "from sklearn.svm import LinearSVC"
   ],
   "id": "1b6e08e5d7c518e3",
   "outputs": [],
   "execution_count": 86
  },
  {
   "metadata": {
    "ExecuteTime": {
     "end_time": "2025-03-25T19:45:15.971496Z",
     "start_time": "2025-03-25T19:45:11.159128Z"
    }
   },
   "cell_type": "code",
   "source": [
    "results = []\n",
    "for clf, name in (\n",
    "    (LogisticRegression(C=1, max_iter=1000), \"Logistic Regression\"),\n",
    "    (RidgeClassifier(alpha=1.0, solver=\"sparse_cg\"), \"Ridge Classifier\"),\n",
    "    (KNeighborsClassifier(n_neighbors=100), \"kNN\"),\n",
    "    (RandomForestClassifier(), \"Random Forest\"),\n",
    "    # L2 penalty Linear SVC\n",
    "    (LinearSVC(C=0.1, dual=False, max_iter=1000), \"Linear SVC\"),\n",
    "    # L2 penalty Linear SGD\n",
    "    (\n",
    "        SGDClassifier(\n",
    "            loss=\"log_loss\", alpha=1e-4, n_iter_no_change=3, early_stopping=True\n",
    "        ),\n",
    "        \"log-loss SGD\",\n",
    "    ),\n",
    "    (NearestCentroid(), \"NearestCentroid\"),\n",
    "    # Sparse naive Bayes classifier\n",
    "    (ComplementNB(alpha=0.1), \"Complement naive Bayes\"),\n",
    "):\n",
    "    print(\"=\" * 80)\n",
    "    print(name)\n",
    "    results.append(benchmark(clf, name))"
   ],
   "id": "44b36cce67922d15",
   "outputs": [
    {
     "name": "stdout",
     "output_type": "stream",
     "text": [
      "================================================================================\n",
      "Logistic Regression\n",
      "________________________________________________________________________________\n",
      "Training: \n",
      "LogisticRegression(C=1, max_iter=1000)\n",
      "train time: 0.018s\n",
      "test time:  0.0s\n",
      "accuracy:   0.797\n",
      "\n",
      "================================================================================\n",
      "Ridge Classifier\n",
      "________________________________________________________________________________\n",
      "Training: \n",
      "RidgeClassifier(solver='sparse_cg')\n",
      "train time: 0.011s\n",
      "test time:  0.001s\n",
      "accuracy:   0.779\n",
      "\n",
      "================================================================================\n",
      "kNN\n",
      "________________________________________________________________________________\n",
      "Training: \n",
      "KNeighborsClassifier(n_neighbors=100)\n",
      "train time: 0.001s\n",
      "test time:  0.129s\n",
      "accuracy:   0.729\n",
      "\n",
      "================================================================================\n",
      "Random Forest\n",
      "________________________________________________________________________________\n",
      "Training: \n",
      "RandomForestClassifier()\n",
      "train time: 4.36s\n",
      "test time:  0.111s\n",
      "accuracy:   0.783\n",
      "\n",
      "================================================================================\n",
      "Linear SVC\n",
      "________________________________________________________________________________\n",
      "Training: \n",
      "LinearSVC(C=0.1, dual=False)\n",
      "train time: 0.00801s\n",
      "test time:  0.0s\n",
      "accuracy:   0.798\n",
      "\n",
      "================================================================================\n",
      "log-loss SGD\n",
      "________________________________________________________________________________\n",
      "Training: \n",
      "SGDClassifier(early_stopping=True, loss='log_loss', n_iter_no_change=3)\n",
      "train time: 0.019s\n",
      "test time:  0.000992s\n",
      "accuracy:   0.794\n",
      "\n",
      "================================================================================\n",
      "NearestCentroid\n",
      "________________________________________________________________________________\n",
      "Training: \n",
      "NearestCentroid()\n",
      "train time: 0.125s\n",
      "test time:  0.004s\n",
      "accuracy:   0.743\n",
      "\n",
      "================================================================================\n",
      "Complement naive Bayes\n",
      "________________________________________________________________________________\n",
      "Training: \n",
      "ComplementNB(alpha=0.1)\n",
      "train time: 0.003s\n",
      "test time:  0.0s\n",
      "accuracy:   0.784\n",
      "\n"
     ]
    }
   ],
   "execution_count": 98
  },
  {
   "metadata": {
    "ExecuteTime": {
     "end_time": "2025-03-25T19:18:05.381714Z",
     "start_time": "2025-03-25T19:18:05.377274Z"
    }
   },
   "cell_type": "code",
   "source": [
    "for i in results:\n",
    "    print(i)"
   ],
   "id": "20c2e2cb2c124c7d",
   "outputs": [
    {
     "name": "stdout",
     "output_type": "stream",
     "text": [
      "('Logistic Regression', 0.7800393959290873, 0.02699899673461914, 0.0010030269622802734)\n",
      "('Ridge Classifier', 0.7793827971109653, 0.012629985809326172, 0.0)\n",
      "('kNN', 0.7288246881155613, 0.0010004043579101562, 0.14299774169921875)\n",
      "('Random Forest', 0.7852921864740644, 4.309478044509888, 0.10436534881591797)\n",
      "('Linear SVC', 0.7977675640183848, 0.008646726608276367, 0.0010318756103515625)\n",
      "('log-loss SGD', 0.7951411687458962, 0.01100015640258789, 0.0)\n",
      "('NearestCentroid', 0.7426132632961261, 0.15801668167114258, 0.15998268127441406)\n",
      "('Complement naive Bayes', 0.7839789888378201, 0.004000186920166016, 0.0)\n"
     ]
    }
   ],
   "execution_count": 88
  },
  {
   "metadata": {
    "ExecuteTime": {
     "end_time": "2025-03-25T19:20:52.706191Z",
     "start_time": "2025-03-25T19:20:52.701880Z"
    }
   },
   "cell_type": "code",
   "source": [
    "max_accuracy = 0\n",
    "alg = ''\n",
    "for i in results:\n",
    "    if i[1] > max_accuracy:\n",
    "        max_accuracy = i[1]\n",
    "        alg = i[0] "
   ],
   "id": "780ab83daf4693b",
   "outputs": [],
   "execution_count": 89
  },
  {
   "metadata": {
    "ExecuteTime": {
     "end_time": "2025-03-25T19:21:06.317356Z",
     "start_time": "2025-03-25T19:21:06.311422Z"
    }
   },
   "cell_type": "code",
   "source": "alg, max_accuracy",
   "id": "bd968a7b63f4c40f",
   "outputs": [
    {
     "data": {
      "text/plain": [
       "('Linear SVC', 0.7977675640183848)"
      ]
     },
     "execution_count": 90,
     "metadata": {},
     "output_type": "execute_result"
    }
   ],
   "execution_count": 90
  },
  {
   "metadata": {
    "ExecuteTime": {
     "end_time": "2025-03-25T19:34:47.601730Z",
     "start_time": "2025-03-25T19:34:47.596727Z"
    }
   },
   "cell_type": "code",
   "source": "from sklearn.model_selection import GridSearchCV",
   "id": "778123d78fba26fd",
   "outputs": [],
   "execution_count": 91
  },
  {
   "metadata": {
    "ExecuteTime": {
     "end_time": "2025-03-25T20:05:24.464938Z",
     "start_time": "2025-03-25T20:05:24.457935Z"
    }
   },
   "cell_type": "code",
   "source": [
    "def benchmark_grid(clf, parameters, custom_name=False):\n",
    "    print(\"_\" * 80)\n",
    "    print(\"Training: \")\n",
    "    print(clf)\n",
    "    t0 = time()\n",
    "    \n",
    "    grid_search = GridSearchCV(estimator=clf,\n",
    "                           param_grid=parameters,\n",
    "                           cv=5,\n",
    "                           scoring='accuracy')\n",
    "    \n",
    "    grid_search.fit(features_train, Y_train)\n",
    "    train_time = time() - t0\n",
    "    print(f\"train time: {train_time:.3}s\")\n",
    "    \n",
    "    best_score_grid = float(grid_search.best_score_)\n",
    "    print(f\"Best score: {best_score_grid:.3f}\")\n",
    "    print(f\"Best parameters: {grid_search.best_params_}\")\n",
    "    \n",
    "    # Evaluate on test set\n",
    "    best_model = grid_search.best_estimator_\n",
    "    t0 = time()\n",
    "    accuracy_on_test = best_model.score(features_test, Y_test)\n",
    "    print(f\"Test set accuracy: {accuracy_on_test:.3f}\")\n",
    "    test_time = time() - t0\n",
    "    print(f\"test time:  {test_time:.3}s\")\n",
    "\n",
    "    print()\n",
    "    if custom_name:\n",
    "        clf_descr = str(custom_name)\n",
    "    else:\n",
    "        clf_descr = clf.__class__.__name__\n",
    "    return clf_descr, accuracy_on_test, best_score_grid, train_time, test_time"
   ],
   "id": "f3ac1ec2a9f58c0",
   "outputs": [],
   "execution_count": 124
  },
  {
   "metadata": {
    "ExecuteTime": {
     "end_time": "2025-03-25T20:05:43.695236Z",
     "start_time": "2025-03-25T20:05:25.388440Z"
    }
   },
   "cell_type": "code",
   "source": [
    "results_v2 = []\n",
    "for clf, name, params in (\n",
    "        (LogisticRegression(), \"Logistic Regression\", {'C': [0.1, 1, 2, 5, 10], 'max_iter': [100, 1000, 2000]}),\n",
    "        (RidgeClassifier(), \"Ridge Classifier\",\n",
    "         {'alpha': [0.1, 1, 10], 'solver': ['sparse_cg', 'auto', 'lsqr', 'sag']}),\n",
    "        (KNeighborsClassifier(), \"kNN\", {'n_neighbors': [10, 30, 70, 100, 200]}),\n",
    "        (RandomForestClassifier(), \"Random Forest\", {'max_depth': [1, 2, 3, 4, 5, 50]}),\n",
    "        # L2 penalty Linear SVC\n",
    "        (LinearSVC(dual=False), \"Linear SVC\", {'C': [0.1, 1, 2, 5, 10], 'max_iter': [100, 1000, 2000]}),\n",
    "        # L2 penalty Linear SGD\n",
    "        (\n",
    "            SGDClassifier(\n",
    "                loss=\"log_loss\", n_iter_no_change=3, early_stopping=True\n",
    "            ),\n",
    "            \"log-loss SGD\", {'alpha': [1e-4, 1e-3, 1e-2, 1e-1, 1, 5, 10]},\n",
    "        ),\n",
    "        (NearestCentroid(), \"NearestCentroid\", {}),\n",
    "        # # Sparse naive Bayes classifier\n",
    "        (ComplementNB(), \"Complement naive Bayes\", {'alpha': [0.001, 0.01, 0.1, 1, 5, 10]}),\n",
    "):\n",
    "    print(\"=\" * 80)\n",
    "    print(name)\n",
    "    results_v2.append(benchmark_grid(clf, params, name))"
   ],
   "id": "737315dd81757688",
   "outputs": [
    {
     "name": "stdout",
     "output_type": "stream",
     "text": [
      "================================================================================\n",
      "Logistic Regression\n",
      "________________________________________________________________________________\n",
      "Training: \n",
      "LogisticRegression()\n",
      "train time: 1.65s\n",
      "Best score: 0.794\n",
      "Best parameters: {'C': 1, 'max_iter': 100}\n",
      "Test set accuracy: 0.797\n",
      "test time:  0.002s\n",
      "\n",
      "================================================================================\n",
      "Ridge Classifier\n",
      "________________________________________________________________________________\n",
      "Training: \n",
      "RidgeClassifier()\n",
      "train time: 0.925s\n",
      "Best score: 0.788\n",
      "Best parameters: {'alpha': 1, 'solver': 'sparse_cg'}\n",
      "Test set accuracy: 0.779\n",
      "test time:  0.00203s\n",
      "\n",
      "================================================================================\n",
      "kNN\n",
      "________________________________________________________________________________\n",
      "Training: \n",
      "KNeighborsClassifier()\n",
      "train time: 2.21s\n",
      "Best score: 0.734\n",
      "Best parameters: {'n_neighbors': 100}\n",
      "Test set accuracy: 0.729\n",
      "test time:  0.136s\n",
      "\n",
      "================================================================================\n",
      "Random Forest\n",
      "________________________________________________________________________________\n",
      "Training: \n",
      "RandomForestClassifier()\n",
      "train time: 10.9s\n",
      "Best score: 0.768\n",
      "Best parameters: {'max_depth': 50}\n",
      "Test set accuracy: 0.766\n",
      "test time:  0.034s\n",
      "\n",
      "================================================================================\n",
      "Linear SVC\n",
      "________________________________________________________________________________\n",
      "Training: \n",
      "LinearSVC(dual=False)\n",
      "train time: 1.05s\n",
      "Best score: 0.793\n",
      "Best parameters: {'C': 0.1, 'max_iter': 100}\n",
      "Test set accuracy: 0.798\n",
      "test time:  0.00091s\n",
      "\n",
      "================================================================================\n",
      "log-loss SGD\n",
      "________________________________________________________________________________\n",
      "Training: \n",
      "SGDClassifier(early_stopping=True, loss='log_loss', n_iter_no_change=3)\n",
      "train time: 0.511s\n",
      "Best score: 0.787\n",
      "Best parameters: {'alpha': 0.0001}\n",
      "Test set accuracy: 0.780\n",
      "test time:  0.003s\n",
      "\n",
      "================================================================================\n",
      "NearestCentroid\n",
      "________________________________________________________________________________\n",
      "Training: \n",
      "NearestCentroid()\n",
      "train time: 0.688s\n",
      "Best score: 0.746\n",
      "Best parameters: {}\n",
      "Test set accuracy: 0.743\n",
      "test time:  0.006s\n",
      "\n",
      "================================================================================\n",
      "Complement naive Bayes\n",
      "________________________________________________________________________________\n",
      "Training: \n",
      "ComplementNB()\n",
      "train time: 0.168s\n",
      "Best score: 0.789\n",
      "Best parameters: {'alpha': 1}\n",
      "Test set accuracy: 0.778\n",
      "test time:  0.00152s\n",
      "\n"
     ]
    }
   ],
   "execution_count": 125
  },
  {
   "metadata": {},
   "cell_type": "markdown",
   "source": [
    "for i in results_v2:\n",
    "    print(i)"
   ],
   "id": "e153189bf8256cce"
  },
  {
   "metadata": {
    "ExecuteTime": {
     "end_time": "2025-03-25T20:05:54.400099Z",
     "start_time": "2025-03-25T20:05:54.396072Z"
    }
   },
   "cell_type": "code",
   "source": "df_results = pd.DataFrame(results_v2, columns=['clf_descr', 'accuracy_on_test', 'best_score_grid', 'train_time', 'test_time'])",
   "id": "e7e673f54c4dfa3f",
   "outputs": [],
   "execution_count": 127
  },
  {
   "metadata": {
    "ExecuteTime": {
     "end_time": "2025-03-25T20:05:57.364650Z",
     "start_time": "2025-03-25T20:05:57.355390Z"
    }
   },
   "cell_type": "code",
   "source": "df_results",
   "id": "bb9cba55fe93a9fa",
   "outputs": [
    {
     "data": {
      "text/plain": [
       "                clf_descr  accuracy_on_test  best_score_grid  train_time  \\\n",
       "0     Logistic Regression          0.797111         0.793596    1.654313   \n",
       "1        Ridge Classifier          0.779383         0.788013    0.925276   \n",
       "2                     kNN          0.728825         0.734319    2.208011   \n",
       "3           Random Forest          0.765594         0.768144   10.905098   \n",
       "4              Linear SVC          0.797768         0.793432    1.052003   \n",
       "5            log-loss SGD          0.780039         0.787192    0.511284   \n",
       "6         NearestCentroid          0.742613         0.746141    0.688416   \n",
       "7  Complement naive Bayes          0.778070         0.789163    0.168154   \n",
       "\n",
       "   test_time  \n",
       "0   0.002000  \n",
       "1   0.002026  \n",
       "2   0.135962  \n",
       "3   0.033995  \n",
       "4   0.000910  \n",
       "5   0.003001  \n",
       "6   0.006000  \n",
       "7   0.001516  "
      ],
      "text/html": [
       "<div>\n",
       "<style scoped>\n",
       "    .dataframe tbody tr th:only-of-type {\n",
       "        vertical-align: middle;\n",
       "    }\n",
       "\n",
       "    .dataframe tbody tr th {\n",
       "        vertical-align: top;\n",
       "    }\n",
       "\n",
       "    .dataframe thead th {\n",
       "        text-align: right;\n",
       "    }\n",
       "</style>\n",
       "<table border=\"1\" class=\"dataframe\">\n",
       "  <thead>\n",
       "    <tr style=\"text-align: right;\">\n",
       "      <th></th>\n",
       "      <th>clf_descr</th>\n",
       "      <th>accuracy_on_test</th>\n",
       "      <th>best_score_grid</th>\n",
       "      <th>train_time</th>\n",
       "      <th>test_time</th>\n",
       "    </tr>\n",
       "  </thead>\n",
       "  <tbody>\n",
       "    <tr>\n",
       "      <th>0</th>\n",
       "      <td>Logistic Regression</td>\n",
       "      <td>0.797111</td>\n",
       "      <td>0.793596</td>\n",
       "      <td>1.654313</td>\n",
       "      <td>0.002000</td>\n",
       "    </tr>\n",
       "    <tr>\n",
       "      <th>1</th>\n",
       "      <td>Ridge Classifier</td>\n",
       "      <td>0.779383</td>\n",
       "      <td>0.788013</td>\n",
       "      <td>0.925276</td>\n",
       "      <td>0.002026</td>\n",
       "    </tr>\n",
       "    <tr>\n",
       "      <th>2</th>\n",
       "      <td>kNN</td>\n",
       "      <td>0.728825</td>\n",
       "      <td>0.734319</td>\n",
       "      <td>2.208011</td>\n",
       "      <td>0.135962</td>\n",
       "    </tr>\n",
       "    <tr>\n",
       "      <th>3</th>\n",
       "      <td>Random Forest</td>\n",
       "      <td>0.765594</td>\n",
       "      <td>0.768144</td>\n",
       "      <td>10.905098</td>\n",
       "      <td>0.033995</td>\n",
       "    </tr>\n",
       "    <tr>\n",
       "      <th>4</th>\n",
       "      <td>Linear SVC</td>\n",
       "      <td>0.797768</td>\n",
       "      <td>0.793432</td>\n",
       "      <td>1.052003</td>\n",
       "      <td>0.000910</td>\n",
       "    </tr>\n",
       "    <tr>\n",
       "      <th>5</th>\n",
       "      <td>log-loss SGD</td>\n",
       "      <td>0.780039</td>\n",
       "      <td>0.787192</td>\n",
       "      <td>0.511284</td>\n",
       "      <td>0.003001</td>\n",
       "    </tr>\n",
       "    <tr>\n",
       "      <th>6</th>\n",
       "      <td>NearestCentroid</td>\n",
       "      <td>0.742613</td>\n",
       "      <td>0.746141</td>\n",
       "      <td>0.688416</td>\n",
       "      <td>0.006000</td>\n",
       "    </tr>\n",
       "    <tr>\n",
       "      <th>7</th>\n",
       "      <td>Complement naive Bayes</td>\n",
       "      <td>0.778070</td>\n",
       "      <td>0.789163</td>\n",
       "      <td>0.168154</td>\n",
       "      <td>0.001516</td>\n",
       "    </tr>\n",
       "  </tbody>\n",
       "</table>\n",
       "</div>"
      ]
     },
     "execution_count": 128,
     "metadata": {},
     "output_type": "execute_result"
    }
   ],
   "execution_count": 128
  },
  {
   "metadata": {},
   "cell_type": "code",
   "outputs": [],
   "execution_count": null,
   "source": "",
   "id": "96737dcbf03a8e94"
  },
  {
   "metadata": {},
   "cell_type": "code",
   "outputs": [],
   "execution_count": null,
   "source": "",
   "id": "8a7da0a2260b7881"
  }
 ],
 "metadata": {
  "kernelspec": {
   "display_name": "Python 3",
   "language": "python",
   "name": "python3"
  },
  "language_info": {
   "codemirror_mode": {
    "name": "ipython",
    "version": 2
   },
   "file_extension": ".py",
   "mimetype": "text/x-python",
   "name": "python",
   "nbconvert_exporter": "python",
   "pygments_lexer": "ipython2",
   "version": "2.7.6"
  }
 },
 "nbformat": 4,
 "nbformat_minor": 5
}
